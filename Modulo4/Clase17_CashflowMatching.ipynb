{
 "cells": [
  {
   "cell_type": "markdown",
   "metadata": {},
   "source": [
    "# The cash matching problem"
   ]
  },
  {
   "cell_type": "markdown",
   "metadata": {},
   "source": [
    "**Referencia:**\n",
    "- Investment Science, David G. Luenberger, 2014."
   ]
  },
  {
   "cell_type": "markdown",
   "metadata": {},
   "source": [
    "## 0. Motivación"
   ]
  },
  {
   "cell_type": "markdown",
   "metadata": {},
   "source": [
    "1. La clase pasada vimos una introducción a programación lineal. \n",
    " - <font color=blue>Básicamente, ¿qué es?</font>\n",
    " - <font color=blue>¿Cómo son las funciones que se optimizan?</font>\n",
    " - <font color=blue>De acuerdo a lo anterior, ¿qué tipo de problemas se resuelven con LP?</font>\n",
    "2. La optimización de portafolios es un problema de asignación de capital en diferentes opciones de inversión.\n",
    " - Si se tienen activos riesgosos, el problema de optimización que surge es uno de QP.\n",
    " - Con activos de renta fija (libres de riesgo, flujo de efectivo conocido en cantidad y en tiempo), el problema que surge es uno de LP, como vimos la clase pasada.\n",
    "3. Aún así, dentro de la optimización de portafolios constituidos por activos libres de riesgo, hay varios subproblemas clásicos que se pueden plantear, uno de ellos es el **cash matching problem**"
   ]
  },
  {
   "cell_type": "markdown",
   "metadata": {},
   "source": [
    "## 1. Conceptos básicos"
   ]
  },
  {
   "cell_type": "markdown",
   "metadata": {},
   "source": [
    "Suponga que usted tiene unas obligaciones monetarias futuras (por ejemplo, dichas obligaciones podrían representar los pagos de anualidad de un plan de retiro, seguro de carro, consumo anual estimado del agua, entre otros).\n",
    "\n",
    "Queremos invertir ahora, de forma que esas obligaciones se puedan pagar una vez se generen los cobros.\n",
    "\n",
    "Para ello, planeamos comprar bonos con diferente madurez y utilizar los pagos cupón y pago final para atender las obligaciones.\n",
    "\n",
    "En su forma más básica, se diseña un portafolio que, sin inversión adicional, provee el efectivo necesario cuando se requiera."
   ]
  },
  {
   "cell_type": "markdown",
   "metadata": {},
   "source": [
    "Matemáticamente, podemos formular este problema de la siguiente manera...\n",
    "\n",
    "\\begin{equation}\n",
    "\\begin{array}{ll}\n",
    "\\min_{x_1,\\dots,x_n} & \\sum_{j=1}^{m} p_jx_j \\\\\n",
    "\\text{s. a. }        & \\sum_{j=1}^{m}c_{i,j}x_j\\geq y_i \\text{ para } 1\\leq i\\leq n \\\\\n",
    "                     & x_j \\text{ para } 1\\leq j\\leq m,\n",
    "\\end{array}\n",
    "\\end{equation}\n",
    "donde:\n",
    "- $x_j$ es la cantidad del bono $j$ a ser comprada ($j=1,2,\\dots,m$),\n",
    "- $p_j$ es el precio del bono $j$,\n",
    "- $y_i$ es la obligación en el periodo $i$ ($i=1,2,\\dots,n$), y\n",
    "- $c_{i,j}$ es el cupón del bono $j$ en el periodo $i$."
   ]
  },
  {
   "cell_type": "markdown",
   "metadata": {},
   "source": [
    "## 2. Ejemplo básico\n",
    "\n",
    "- Queremos atender obligaciones de efectivo sobre un periodo de 6 años.\n",
    "- Para este fin seleccionamos 10 bonos (y para simplicidad toda la contabilidad se lleva anual). \n",
    "- La estructura de flujo de efectivo de cada bono se muestra en la columna correspondiente de la tabla.\n",
    "- Los precios de cada bono están dados en el vector $p$.\n",
    "- Las obligaciones están dadas en el vector $y$.\n",
    "- Se supone que se pueden comprar fracciones de bono."
   ]
  },
  {
   "cell_type": "code",
   "execution_count": 1,
   "metadata": {},
   "outputs": [],
   "source": [
    "import pandas as pd\n",
    "import numpy as np"
   ]
  },
  {
   "cell_type": "code",
   "execution_count": 2,
   "metadata": {},
   "outputs": [
    {
     "data": {
      "text/html": [
       "<div>\n",
       "<style scoped>\n",
       "    .dataframe tbody tr th:only-of-type {\n",
       "        vertical-align: middle;\n",
       "    }\n",
       "\n",
       "    .dataframe tbody tr th {\n",
       "        vertical-align: top;\n",
       "    }\n",
       "\n",
       "    .dataframe thead th {\n",
       "        text-align: right;\n",
       "    }\n",
       "</style>\n",
       "<table border=\"1\" class=\"dataframe\">\n",
       "  <thead>\n",
       "    <tr style=\"text-align: right;\">\n",
       "      <th></th>\n",
       "      <th>1</th>\n",
       "      <th>2</th>\n",
       "      <th>3</th>\n",
       "      <th>4</th>\n",
       "      <th>5</th>\n",
       "      <th>6</th>\n",
       "      <th>7</th>\n",
       "      <th>8</th>\n",
       "      <th>9</th>\n",
       "      <th>10</th>\n",
       "    </tr>\n",
       "  </thead>\n",
       "  <tbody>\n",
       "    <tr>\n",
       "      <th>1</th>\n",
       "      <td>10</td>\n",
       "      <td>7</td>\n",
       "      <td>8</td>\n",
       "      <td>6</td>\n",
       "      <td>7</td>\n",
       "      <td>5</td>\n",
       "      <td>10</td>\n",
       "      <td>8</td>\n",
       "      <td>7</td>\n",
       "      <td>100</td>\n",
       "    </tr>\n",
       "    <tr>\n",
       "      <th>2</th>\n",
       "      <td>10</td>\n",
       "      <td>7</td>\n",
       "      <td>8</td>\n",
       "      <td>6</td>\n",
       "      <td>7</td>\n",
       "      <td>5</td>\n",
       "      <td>10</td>\n",
       "      <td>8</td>\n",
       "      <td>107</td>\n",
       "      <td>0</td>\n",
       "    </tr>\n",
       "    <tr>\n",
       "      <th>3</th>\n",
       "      <td>10</td>\n",
       "      <td>7</td>\n",
       "      <td>8</td>\n",
       "      <td>6</td>\n",
       "      <td>7</td>\n",
       "      <td>5</td>\n",
       "      <td>110</td>\n",
       "      <td>108</td>\n",
       "      <td>0</td>\n",
       "      <td>0</td>\n",
       "    </tr>\n",
       "    <tr>\n",
       "      <th>4</th>\n",
       "      <td>10</td>\n",
       "      <td>7</td>\n",
       "      <td>8</td>\n",
       "      <td>6</td>\n",
       "      <td>7</td>\n",
       "      <td>105</td>\n",
       "      <td>0</td>\n",
       "      <td>0</td>\n",
       "      <td>0</td>\n",
       "      <td>0</td>\n",
       "    </tr>\n",
       "    <tr>\n",
       "      <th>5</th>\n",
       "      <td>10</td>\n",
       "      <td>7</td>\n",
       "      <td>8</td>\n",
       "      <td>106</td>\n",
       "      <td>107</td>\n",
       "      <td>0</td>\n",
       "      <td>0</td>\n",
       "      <td>0</td>\n",
       "      <td>0</td>\n",
       "      <td>0</td>\n",
       "    </tr>\n",
       "    <tr>\n",
       "      <th>6</th>\n",
       "      <td>110</td>\n",
       "      <td>107</td>\n",
       "      <td>108</td>\n",
       "      <td>0</td>\n",
       "      <td>0</td>\n",
       "      <td>0</td>\n",
       "      <td>0</td>\n",
       "      <td>0</td>\n",
       "      <td>0</td>\n",
       "      <td>0</td>\n",
       "    </tr>\n",
       "  </tbody>\n",
       "</table>\n",
       "</div>"
      ],
      "text/plain": [
       "    1    2    3    4    5    6    7    8    9    10\n",
       "1   10    7    8    6    7    5   10    8    7  100\n",
       "2   10    7    8    6    7    5   10    8  107    0\n",
       "3   10    7    8    6    7    5  110  108    0    0\n",
       "4   10    7    8    6    7  105    0    0    0    0\n",
       "5   10    7    8  106  107    0    0    0    0    0\n",
       "6  110  107  108    0    0    0    0    0    0    0"
      ]
     },
     "execution_count": 2,
     "metadata": {},
     "output_type": "execute_result"
    }
   ],
   "source": [
    "table = pd.DataFrame(index=np.arange(6)+1, columns=np.arange(10)+1)\n",
    "table.iloc[:,0] = [10,10,10,10,10,110]\n",
    "table.iloc[:,1] = [7,7,7,7,7,107]\n",
    "table.iloc[:,2] = [8,8,8,8,8,108]\n",
    "table.iloc[:,3] = [6,6,6,6,106,0]\n",
    "table.iloc[:,4] = [7,7,7,7,107,0]\n",
    "table.iloc[:,5] = [5,5,5,105,0,0]\n",
    "table.iloc[:,6] = [10,10,110,0,0,0]\n",
    "table.iloc[:,7] = [8,8,108,0,0,0]\n",
    "table.iloc[:,8] = [7,107,0,0,0,0]\n",
    "table.iloc[:,9] = [100,0,0,0,0,0]\n",
    "table"
   ]
  },
  {
   "cell_type": "code",
   "execution_count": 6,
   "metadata": {},
   "outputs": [],
   "source": [
    "C = table.values\n",
    "p = np.array([109, 94.8, 99.5, 93.1, 97.2, 92.9, 110, 104, 102, 95.2])\n",
    "y = np.array([100, 200, 800, 100, 800, 1200])"
   ]
  },
  {
   "cell_type": "markdown",
   "metadata": {},
   "source": [
    "Identificar las entradas de la función linprog y resolver..."
   ]
  },
  {
   "cell_type": "code",
   "execution_count": 3,
   "metadata": {},
   "outputs": [],
   "source": [
    "from scipy.optimize import linprog"
   ]
  },
  {
   "cell_type": "code",
   "execution_count": 7,
   "metadata": {},
   "outputs": [
    {
     "data": {
      "text/plain": [
       "     fun: 2381.1388298203824\n",
       " message: 'Optimization terminated successfully.'\n",
       "     nit: 9\n",
       "   slack: array([ 71.74111374,   0.        ,   0.        ,  19.34403104,\n",
       "         0.        ,   0.        ])\n",
       "  status: 0\n",
       " success: True\n",
       "       x: array([  0.        ,  11.21495327,   0.        ,   6.80655969,\n",
       "         0.        ,   0.        ,   0.        ,   6.30237008,\n",
       "         0.28258886,   0.        ])"
      ]
     },
     "execution_count": 7,
     "metadata": {},
     "output_type": "execute_result"
    }
   ],
   "source": [
    "res_cfm1 = linprog(p, A_ub=-C, b_ub=-y)\n",
    "res_cfm1"
   ]
  },
  {
   "cell_type": "code",
   "execution_count": 8,
   "metadata": {},
   "outputs": [
    {
     "data": {
      "text/plain": [
       "array([  0.        ,  11.21495327,   0.        ,   6.80655969,\n",
       "         0.        ,   0.        ,   0.        ,   6.30237008,\n",
       "         0.28258886,   0.        ])"
      ]
     },
     "execution_count": 8,
     "metadata": {},
     "output_type": "execute_result"
    }
   ],
   "source": [
    "res_cfm1.x"
   ]
  },
  {
   "cell_type": "code",
   "execution_count": 12,
   "metadata": {},
   "outputs": [
    {
     "data": {
      "text/plain": [
       "array([  171.74111374,   200.        ,   800.        ,   119.34403104,\n",
       "         800.        ,  1200.        ])"
      ]
     },
     "execution_count": 12,
     "metadata": {},
     "output_type": "execute_result"
    }
   ],
   "source": [
    "C.dot(res_cfm1.x)"
   ]
  },
  {
   "cell_type": "code",
   "execution_count": 10,
   "metadata": {},
   "outputs": [
    {
     "data": {
      "text/plain": [
       "array([ 100,  200,  800,  100,  800, 1200])"
      ]
     },
     "execution_count": 10,
     "metadata": {},
     "output_type": "execute_result"
    }
   ],
   "source": [
    "y"
   ]
  },
  {
   "cell_type": "markdown",
   "metadata": {},
   "source": [
    "<font color=red> **¿Qué particularidades se encuentran?** </font>"
   ]
  },
  {
   "cell_type": "markdown",
   "metadata": {},
   "source": [
    "## 3. Ejemplo\n",
    "\n",
    "- La compañía XYZ desea invertir en un conjunto de 7 bonos para garantizar el cumplimient de obligaciones sobre los siguientes 14 años.\n",
    "- La estructura de flujo de efectivo de cada bono se muestra en la columna correspondiente de la tabla.\n",
    "- Los precios de cada bono están dados en el vector $p$.\n",
    "- Las obligaciones están dadas en el vector $y$.\n",
    "- Además de los bonos, se tiene una cuenta de ahorro cuya tasa de interés anual es del $3\\%$.\n",
    "- Cualquier excedente de efectivo después de cumplir los requerimientos de periodo se invierten en la cuenta de efectivo. \n",
    "- La meta es determinar el portafolio de mínimo valor hoy para cumplir con todas las obligaciones\n",
    "- Se supone que se pueden comprar fracciones de bono."
   ]
  },
  {
   "cell_type": "code",
   "execution_count": 13,
   "metadata": {},
   "outputs": [
    {
     "data": {
      "text/html": [
       "<div>\n",
       "<style scoped>\n",
       "    .dataframe tbody tr th:only-of-type {\n",
       "        vertical-align: middle;\n",
       "    }\n",
       "\n",
       "    .dataframe tbody tr th {\n",
       "        vertical-align: top;\n",
       "    }\n",
       "\n",
       "    .dataframe thead th {\n",
       "        text-align: right;\n",
       "    }\n",
       "</style>\n",
       "<table border=\"1\" class=\"dataframe\">\n",
       "  <thead>\n",
       "    <tr style=\"text-align: right;\">\n",
       "      <th></th>\n",
       "      <th>1</th>\n",
       "      <th>2</th>\n",
       "      <th>3</th>\n",
       "      <th>4</th>\n",
       "      <th>5</th>\n",
       "      <th>6</th>\n",
       "      <th>7</th>\n",
       "    </tr>\n",
       "  </thead>\n",
       "  <tbody>\n",
       "    <tr>\n",
       "      <th>1</th>\n",
       "      <td>60</td>\n",
       "      <td>65</td>\n",
       "      <td>75</td>\n",
       "      <td>55</td>\n",
       "      <td>80</td>\n",
       "      <td>45</td>\n",
       "      <td>100</td>\n",
       "    </tr>\n",
       "    <tr>\n",
       "      <th>2</th>\n",
       "      <td>60</td>\n",
       "      <td>65</td>\n",
       "      <td>75</td>\n",
       "      <td>55</td>\n",
       "      <td>80</td>\n",
       "      <td>45</td>\n",
       "      <td>100</td>\n",
       "    </tr>\n",
       "    <tr>\n",
       "      <th>3</th>\n",
       "      <td>60</td>\n",
       "      <td>65</td>\n",
       "      <td>75</td>\n",
       "      <td>55</td>\n",
       "      <td>80</td>\n",
       "      <td>45</td>\n",
       "      <td>100</td>\n",
       "    </tr>\n",
       "    <tr>\n",
       "      <th>4</th>\n",
       "      <td>60</td>\n",
       "      <td>65</td>\n",
       "      <td>75</td>\n",
       "      <td>55</td>\n",
       "      <td>80</td>\n",
       "      <td>45</td>\n",
       "      <td>100</td>\n",
       "    </tr>\n",
       "    <tr>\n",
       "      <th>5</th>\n",
       "      <td>1060</td>\n",
       "      <td>65</td>\n",
       "      <td>75</td>\n",
       "      <td>55</td>\n",
       "      <td>80</td>\n",
       "      <td>45</td>\n",
       "      <td>100</td>\n",
       "    </tr>\n",
       "    <tr>\n",
       "      <th>6</th>\n",
       "      <td>0</td>\n",
       "      <td>65</td>\n",
       "      <td>75</td>\n",
       "      <td>55</td>\n",
       "      <td>80</td>\n",
       "      <td>45</td>\n",
       "      <td>100</td>\n",
       "    </tr>\n",
       "    <tr>\n",
       "      <th>7</th>\n",
       "      <td>0</td>\n",
       "      <td>65</td>\n",
       "      <td>75</td>\n",
       "      <td>55</td>\n",
       "      <td>80</td>\n",
       "      <td>45</td>\n",
       "      <td>1100</td>\n",
       "    </tr>\n",
       "    <tr>\n",
       "      <th>8</th>\n",
       "      <td>0</td>\n",
       "      <td>65</td>\n",
       "      <td>75</td>\n",
       "      <td>55</td>\n",
       "      <td>80</td>\n",
       "      <td>45</td>\n",
       "      <td>0</td>\n",
       "    </tr>\n",
       "    <tr>\n",
       "      <th>9</th>\n",
       "      <td>0</td>\n",
       "      <td>65</td>\n",
       "      <td>75</td>\n",
       "      <td>55</td>\n",
       "      <td>80</td>\n",
       "      <td>45</td>\n",
       "      <td>0</td>\n",
       "    </tr>\n",
       "    <tr>\n",
       "      <th>10</th>\n",
       "      <td>0</td>\n",
       "      <td>65</td>\n",
       "      <td>75</td>\n",
       "      <td>55</td>\n",
       "      <td>1080</td>\n",
       "      <td>45</td>\n",
       "      <td>0</td>\n",
       "    </tr>\n",
       "    <tr>\n",
       "      <th>11</th>\n",
       "      <td>0</td>\n",
       "      <td>1065</td>\n",
       "      <td>75</td>\n",
       "      <td>55</td>\n",
       "      <td>0</td>\n",
       "      <td>45</td>\n",
       "      <td>0</td>\n",
       "    </tr>\n",
       "    <tr>\n",
       "      <th>12</th>\n",
       "      <td>0</td>\n",
       "      <td>0</td>\n",
       "      <td>75</td>\n",
       "      <td>55</td>\n",
       "      <td>0</td>\n",
       "      <td>45</td>\n",
       "      <td>0</td>\n",
       "    </tr>\n",
       "    <tr>\n",
       "      <th>13</th>\n",
       "      <td>0</td>\n",
       "      <td>0</td>\n",
       "      <td>75</td>\n",
       "      <td>1055</td>\n",
       "      <td>0</td>\n",
       "      <td>45</td>\n",
       "      <td>0</td>\n",
       "    </tr>\n",
       "    <tr>\n",
       "      <th>14</th>\n",
       "      <td>0</td>\n",
       "      <td>0</td>\n",
       "      <td>1075</td>\n",
       "      <td>0</td>\n",
       "      <td>0</td>\n",
       "      <td>1045</td>\n",
       "      <td>0</td>\n",
       "    </tr>\n",
       "  </tbody>\n",
       "</table>\n",
       "</div>"
      ],
      "text/plain": [
       "       1     2     3     4     5     6     7\n",
       "1     60    65    75    55    80    45   100\n",
       "2     60    65    75    55    80    45   100\n",
       "3     60    65    75    55    80    45   100\n",
       "4     60    65    75    55    80    45   100\n",
       "5   1060    65    75    55    80    45   100\n",
       "6      0    65    75    55    80    45   100\n",
       "7      0    65    75    55    80    45  1100\n",
       "8      0    65    75    55    80    45     0\n",
       "9      0    65    75    55    80    45     0\n",
       "10     0    65    75    55  1080    45     0\n",
       "11     0  1065    75    55     0    45     0\n",
       "12     0     0    75    55     0    45     0\n",
       "13     0     0    75  1055     0    45     0\n",
       "14     0     0  1075     0     0  1045     0"
      ]
     },
     "execution_count": 13,
     "metadata": {},
     "output_type": "execute_result"
    }
   ],
   "source": [
    "table2 = pd.DataFrame(index=np.arange(14)+1, columns=np.arange(7)+1)\n",
    "table2.iloc[:,0] = [60,60,60,60,1060,0,0,0,0,0,0,0,0,0]\n",
    "table2.iloc[:,1] = [65,65,65,65,65,65,65,65,65,65,1065,0,0,0]\n",
    "table2.iloc[:,2] = [75,75,75,75,75,75,75,75,75,75,75,75,75,1075]\n",
    "table2.iloc[:,3] = [55,55,55,55,55,55,55,55,55,55,55,55,1055,0]\n",
    "table2.iloc[:,4] = [80,80,80,80,80,80,80,80,80,1080,0,0,0,0]\n",
    "table2.iloc[:,5] = [45,45,45,45,45,45,45,45,45,45,45,45,45,1045]\n",
    "table2.iloc[:,6] = [100,100,100,100,100,100,1100,0,0,0,0,0,0,0]\n",
    "table2"
   ]
  },
  {
   "cell_type": "code",
   "execution_count": 14,
   "metadata": {},
   "outputs": [],
   "source": [
    "C = table2.values\n",
    "p = np.array([990, 1000, 1300, 1100, 1200, 990, 1250])\n",
    "y = np.array([12000, 14000, 15000, 16000, 18000, 20000, 21000, 22000, 24000, 25000, 30000, 31000, 31000, 31000])"
   ]
  },
  {
   "cell_type": "markdown",
   "metadata": {},
   "source": [
    "Formular el problema, identificar las entradas a la función linprog y resolver"
   ]
  },
  {
   "cell_type": "code",
   "execution_count": 20,
   "metadata": {},
   "outputs": [
    {
     "data": {
      "text/plain": [
       "array([  1.00000000e+00,   0.00000000e+00,   0.00000000e+00,\n",
       "         0.00000000e+00,   0.00000000e+00,   0.00000000e+00,\n",
       "         0.00000000e+00,   0.00000000e+00,   0.00000000e+00,\n",
       "         0.00000000e+00,   0.00000000e+00,   0.00000000e+00,\n",
       "         0.00000000e+00,   0.00000000e+00,   0.00000000e+00,\n",
       "         9.90000000e+02,   1.00000000e+03,   1.30000000e+03,\n",
       "         1.10000000e+03,   1.20000000e+03,   9.90000000e+02,\n",
       "         1.25000000e+03])"
      ]
     },
     "execution_count": 20,
     "metadata": {},
     "output_type": "execute_result"
    }
   ],
   "source": [
    "c = np.concatenate((np.array([1]), np.zeros((14,))), axis=0)\n",
    "c = np.concatenate((c, p), axis=0)\n",
    "c"
   ]
  },
  {
   "cell_type": "code",
   "execution_count": 35,
   "metadata": {},
   "outputs": [],
   "source": [
    "r = 0.03\n",
    "Aeq1 = np.concatenate(((1+r)*np.eye(14), np.zeros((14,1))), axis = 1)\n",
    "Aeq2 = np.concatenate((np.zeros((14,1)),-np.eye(14)), axis = 1)\n",
    "Aeq = np.concatenate((Aeq1+Aeq2, C), axis=1)"
   ]
  },
  {
   "cell_type": "code",
   "execution_count": 39,
   "metadata": {},
   "outputs": [
    {
     "data": {
      "text/plain": [
       "     con: array([ 0.00076515,  0.00089798,  0.0009644 ,  0.00103082,  0.00109724,\n",
       "        0.00130048,  0.00130048,  0.00143996,  0.0015728 ,  0.0015728 ,\n",
       "        0.00191021,  0.00204736,  0.00198094,  0.00191818])\n",
       "     fun: 193327.06954183165\n",
       " message: 'Optimization terminated successfully.'\n",
       "     nit: 9\n",
       "   slack: array([], dtype=float64)\n",
       "  status: 0\n",
       " success: True\n",
       "       x: array([  4.76625036e+03,   5.82885786e+03,   4.92334371e+03,\n",
       "         2.99066421e+03,   4.39291519e-03,   7.61365993e+03,\n",
       "         4.81442378e-02,   2.77121890e+04,   1.50461171e+04,\n",
       "         6.32320247e-02,   5.86688103e-03,   8.76869312e+04,\n",
       "         5.93175420e+04,   3.00970749e+04,   1.34496617e-03,\n",
       "         1.26940351e+01,   1.10504152e+02,   4.19518459e-06,\n",
       "         3.78954935e-06,   1.64973781e+01,   7.44392931e-06,\n",
       "         3.65541610e+01])"
      ]
     },
     "execution_count": 39,
     "metadata": {},
     "output_type": "execute_result"
    }
   ],
   "source": [
    "res_cfm2 = linprog(c, A_eq=Aeq, b_eq=y, method='interior-point')\n",
    "res_cfm2"
   ]
  },
  {
   "cell_type": "code",
   "execution_count": null,
   "metadata": {},
   "outputs": [],
   "source": []
  },
  {
   "cell_type": "code",
   "execution_count": null,
   "metadata": {},
   "outputs": [],
   "source": []
  },
  {
   "cell_type": "markdown",
   "metadata": {},
   "source": [
    "<script>\n",
    "  $(document).ready(function(){\n",
    "    $('div.prompt').hide();\n",
    "    $('div.back-to-top').hide();\n",
    "    $('nav#menubar').hide();\n",
    "    $('.breadcrumb').hide();\n",
    "    $('.hidden-print').hide();\n",
    "  });\n",
    "</script>\n",
    "\n",
    "<footer id=\"attribution\" style=\"float:right; color:#808080; background:#fff;\">\n",
    "Created with Jupyter by Esteban Jiménez Rodríguez.\n",
    "</footer>"
   ]
  }
 ],
 "metadata": {
  "kernelspec": {
   "display_name": "Python 3",
   "language": "python",
   "name": "python3"
  },
  "language_info": {
   "codemirror_mode": {
    "name": "ipython",
    "version": 3
   },
   "file_extension": ".py",
   "mimetype": "text/x-python",
   "name": "python",
   "nbconvert_exporter": "python",
   "pygments_lexer": "ipython3",
   "version": "3.6.4"
  }
 },
 "nbformat": 4,
 "nbformat_minor": 2
}
