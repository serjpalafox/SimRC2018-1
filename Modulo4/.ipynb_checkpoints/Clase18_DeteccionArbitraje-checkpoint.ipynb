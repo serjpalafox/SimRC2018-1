{
 "cells": [
  {
   "cell_type": "markdown",
   "metadata": {},
   "source": [
    "# Detección de arbitraje utilizando programación lineal\n",
    "\n",
    "> Arbitraje:\n",
    "> - es una estrategia de trading que tiene un flujo de efectivo inicial positivo y no tiene riesgo de pérdidas posteriores;\n",
    "> - es un conjunto de transacciones que crea riqueza positiva sin riesgo de pérdida;\n",
    "> - fuente de dinero.\n",
    "\n",
    "**Referencia:** \n",
    "- http://www.meiss.com/columbia/en/teaching/1999/fall/B6015/download/lecture05/lec5.pdf\n",
    "- http://mattmcd.github.io/2013/03/30/FX-Arbitrage-CLP.html\n",
    "- Optimization Methods in Finance; Gerard Cornuejols, Reha Tutuncu;"
   ]
  },
  {
   "cell_type": "markdown",
   "metadata": {},
   "source": [
    "- Se puede realizar sobre activos, opciones, tasas de cambio, etcétera.\n",
    "- Las opciones de arbitraje son muy raras, y cuando aparecen, tienden a desaparecer por efecto de oferta/demanda."
   ]
  },
  {
   "cell_type": "markdown",
   "metadata": {},
   "source": [
    "## 1. Mercado de divisas\n",
    "- Es un mercado muy grande. Las transacciones diarias exceden a menudo un trillón de dólares.\n",
    "- Banco interbancario mundial: es el mercado de divisas de primer nivel donde los bancos intercambian diferentes divisas.\n",
    "- También se negocian contratos derivados sobre divisas: futuros, opciones, etcétera."
   ]
  },
  {
   "cell_type": "markdown",
   "metadata": {},
   "source": [
    "**Uso de instrumentos sobre divisas**\n",
    "- Una corporación con presencia internacional:\n",
    " - Administración de intercambio de divisas para operaciones internacionales.\n",
    " - Administración de riesgo de la compañía.\n",
    "- Portafolios de inversión global:\n",
    " - Especulación en mercados de divisas.\n",
    " - Cobertura de riesgo en divisas para inversiones de capitales internacionales.\n",
    " - Cobertura / especulación en los mercados mundiales de renta fija."
   ]
  },
  {
   "cell_type": "markdown",
   "metadata": {},
   "source": [
    "## 2. Ejemplo desactualizado\n",
    "\n",
    "Suponga que las tasas de cambio cruzadas son (1999)\n",
    "\n",
    "|               | Dolar         | Libra         | Franco        | Marco         | Yen           |\n",
    "| ------------- | ------------- | ------------- | ------------- | ------------- | ------------- |\n",
    "| Dolar         |               | 0.6390        | 5.3712        | 1.5712        | 98.8901       |\n",
    "| Libra         | 1.5648        |               | 8.4304        | 2.4590        | 154.7733      |\n",
    "| Franco        | 0.1856        | 0.1186        |               | 0.2921        | 18.4122       |\n",
    "| Marco         | 0.6361        | 0.4063        | 3.4233        |               | 62.9400       |\n",
    "| Yen           | 0.01011       | 0.00645       | 0.05431       | 0.01588       |               |"
   ]
  },
  {
   "cell_type": "markdown",
   "metadata": {},
   "source": [
    "Una transacción de intercambio de divisas es un acuerdo para comprar cierta cantidad de una divisa utilizando otra.\n",
    "\n",
    "De la tabla:\n",
    "- 10000 Dólares pueden cambiarse por 6390 Libras.\n",
    "- 10000 Marcos pueden cambiarse por 629400 Yenes."
   ]
  },
  {
   "cell_type": "markdown",
   "metadata": {},
   "source": [
    "### 2.1 Costos de transacción\n",
    "- Para grandes transacciones en el banco mundial interbancario no hay cargos por comisión. Sin embargo, los costos de transacción están implícitos en los diferenciales demanda-oferta.\n",
    "\n",
    "**Ejemplo.** Ya vimos que 10000 Dólares pueden ser convertidos en 6390 libras. Sin embargo, 6390 Libras pueden ser convertidas en 9999.07 Dólares.\n",
    "\n",
    "Tenemos entonces, la tasa 1.5648 Dolar/Libra y la tasa 1.5649 (= 1/0.6390). EL diferencial entre ellas representa una fuente de ganancias para el creador de mercado y un costo de transacción para la contraparte."
   ]
  },
  {
   "cell_type": "markdown",
   "metadata": {},
   "source": [
    "### 2.2 Ejemplo de arbitraje\n",
    "\n",
    "Suponga que la tasa de cambio libra/dolar es 0.6390 y que la tasa dólar/libra es 1.5651. Entonces un inversor puede lucrarse mediante arbitraje como sigue:\n",
    "\n",
    "1. Se adquieren 6390 libras mediante 10000 dólares.\n",
    "2. Se convierten las 6390 libras a dólares de nuevo: $6390\\times 1.5651=10000.99$\n",
    "3. Estas dos transacciones dieron una ganancia del 0.99 a cero riesgo."
   ]
  },
  {
   "cell_type": "markdown",
   "metadata": {},
   "source": [
    "### 2.3 Ejemplo de arbitraje con tres divisas\n",
    "Una estrategia de arbitraje puede involucarar más de dos divisas:\n",
    "\n",
    "1. Se cambian 100 dólares a 754.50 francos.\n",
    "2. Se cambian 754.50 francos a 245.44 marcos.\n",
    "3. Se cambian 245.44 marcos a 100.03 dólares."
   ]
  },
  {
   "cell_type": "markdown",
   "metadata": {},
   "source": [
    "**Si estas oportunidades llegan a existir, es necesario identificarlas inmediatamente y así mismo actuar.**"
   ]
  },
  {
   "cell_type": "markdown",
   "metadata": {},
   "source": [
    "## 3. Modelo de detección de arbitraje\n",
    "\n",
    "### ¿Cuáles son las variables de decisión $x$?\n",
    "- El conjunto de transacciones de cambios de divisas.\n",
    "\n",
    "### ¿Cuál es el objetivo?\n",
    "- Maximizar la cantidad neta de dólares al final (dependiendo del tipo de moneda).\n",
    "\n",
    "### ¿Cuáles son las restricciones?\n",
    "- La cantidad neta final de cada divisa debe ser no negativa. Por ejemplo, la cantidad total de todas las divisas convertidas a libras, debe ser mayor que la cantidad total de todas las libras convertidas en otras divisas. Hay una restricción por cada divisa.\n",
    "- Las transacciones son no negativas.\n",
    "- Si hay oportunidad de arbitraje, las ganancias son ilimitadas (siempre y cuando haya efectivo ilimitado). Entonces se restringe el arbitraje total."
   ]
  },
  {
   "cell_type": "markdown",
   "metadata": {},
   "source": [
    "### 3.1 Ejemplo de la tabla\n",
    "\n",
    "|               | Dolar         | Libra         | Franco        | Marco         | Yen           |\n",
    "| ------------- | ------------- | ------------- | ------------- | ------------- | ------------- |\n",
    "| Dolar         |               | 0.6390        | 5.3712        | 1.5712        | 98.8901       |\n",
    "| Libra         | 1.5648        |               | 8.4304        | 2.4590        | 154.7733      |\n",
    "| Franco        | 0.1856        | 0.1186        |               | 0.2921        | 18.4122       |\n",
    "| Marco         | 0.6361        | 0.4063        | 3.4233        |               | 62.9400       |\n",
    "| Yen           | 0.01011       | 0.00645       | 0.05431       | 0.01588       |               |\n",
    "\n",
    "Definición de variables: \n",
    " - Sean $1$(dolar), $2$(libra), $3$(franco), $4$(marco), $5$(yen).\n",
    " - Sean $x_{ij}$ la cantidad de divisa $i$ a ser convertida en divisa $j$ (medida en unidades de divisa $i$), para $i=1,...,5$, $j = 1,...,5$, e $i\\neq j$.\n",
    " - Sean $f_k$ la cantidad final de divisa $k$ (medida e unidades de divisa $k$) para $k=1,...,5$. Esto es, el total convertido a la divisa $k$ menos el total de divisa $k$ convertido a otras divisas."
   ]
  },
  {
   "cell_type": "markdown",
   "metadata": {},
   "source": [
    "De acuerdo a lo anterior:\n",
    "1. Escribir $f_1,\\dots,f_5$.\n",
    "2. ¿Cuál es el objetivo?\n",
    "3. ¿Cuáles son las restricciones? \n",
    "4. Escribir todo el problema de optimización.\n",
    "5. Identificar las entradas de linprog y resolver."
   ]
  },
  {
   "cell_type": "code",
   "execution_count": null,
   "metadata": {},
   "outputs": [],
   "source": []
  },
  {
   "cell_type": "code",
   "execution_count": null,
   "metadata": {},
   "outputs": [],
   "source": []
  },
  {
   "cell_type": "code",
   "execution_count": null,
   "metadata": {},
   "outputs": [],
   "source": []
  },
  {
   "cell_type": "code",
   "execution_count": null,
   "metadata": {},
   "outputs": [],
   "source": []
  },
  {
   "cell_type": "code",
   "execution_count": null,
   "metadata": {},
   "outputs": [],
   "source": []
  },
  {
   "cell_type": "markdown",
   "metadata": {},
   "source": [
    "**Comentarios adicionales**\n",
    "- El modelo no solo detecta oportunidad de arbitraje, sino que elige la mejor estrategia de arbitraje posible.\n",
    "- El modelo necesita datos en tiempo real de tasas de cambio cruzadas.\n",
    "- También se necesita un algoritmo automático de solución.\n",
    "- Normalmente, se necesitan transacciones muy grandes para obtener ganancias significativas.\n",
    "- Ideas similares pueden ser usadas para detectar oportunidades de arbitraje en otros mercados."
   ]
  },
  {
   "cell_type": "markdown",
   "metadata": {},
   "source": [
    "## 4. Actividad (subir a moodle)\n",
    "\n",
    "Detectar si hay oportunidades de arbitraje en la siguiente tabla cambio de divisas (2002), y si hay, elegir la mejor estrategia:\n",
    "\n",
    "|               | USD           | EUR           | GBP           | JPY           |\n",
    "| ------------- | ------------- | ------------- | ------------- | ------------- |\n",
    "| USD           |               | 1.1486        | 0.7003        | 133.33        |\n",
    "| EUR           | 0.8706        |               | 0.6097        | 116.14        |\n",
    "| GBP           | 1.4279        | 1.6401        |               | 190.48        |\n",
    "| JPY           | 0.00750       | 0.00861       | 0.00525       |               |"
   ]
  },
  {
   "cell_type": "code",
   "execution_count": null,
   "metadata": {},
   "outputs": [],
   "source": []
  },
  {
   "cell_type": "code",
   "execution_count": null,
   "metadata": {},
   "outputs": [],
   "source": []
  },
  {
   "cell_type": "code",
   "execution_count": null,
   "metadata": {},
   "outputs": [],
   "source": []
  },
  {
   "cell_type": "code",
   "execution_count": null,
   "metadata": {},
   "outputs": [],
   "source": []
  },
  {
   "cell_type": "code",
   "execution_count": null,
   "metadata": {},
   "outputs": [],
   "source": []
  },
  {
   "cell_type": "code",
   "execution_count": null,
   "metadata": {},
   "outputs": [],
   "source": []
  },
  {
   "cell_type": "markdown",
   "metadata": {},
   "source": [
    "<script>\n",
    "  $(document).ready(function(){\n",
    "    $('div.prompt').hide();\n",
    "    $('div.back-to-top').hide();\n",
    "    $('nav#menubar').hide();\n",
    "    $('.breadcrumb').hide();\n",
    "    $('.hidden-print').hide();\n",
    "  });\n",
    "</script>\n",
    "\n",
    "<footer id=\"attribution\" style=\"float:right; color:#808080; background:#fff;\">\n",
    "Created with Jupyter by Esteban Jiménez Rodríguez.\n",
    "</footer>"
   ]
  }
 ],
 "metadata": {
  "kernelspec": {
   "display_name": "Python 3",
   "language": "python",
   "name": "python3"
  },
  "language_info": {
   "codemirror_mode": {
    "name": "ipython",
    "version": 3
   },
   "file_extension": ".py",
   "mimetype": "text/x-python",
   "name": "python",
   "nbconvert_exporter": "python",
   "pygments_lexer": "ipython3",
   "version": "3.6.4"
  }
 },
 "nbformat": 4,
 "nbformat_minor": 2
}
