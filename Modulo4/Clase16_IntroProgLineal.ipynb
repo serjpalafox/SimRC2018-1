{
 "cells": [
  {
   "cell_type": "markdown",
   "metadata": {},
   "source": [
    "# Programación lineal\n",
    "\n",
    "<img style=\"float: right; margin: 0px 0px 15px 15px;\" src=\"https://upload.wikimedia.org/wikipedia/commons/thumb/0/0c/Linear_Programming_Feasible_Region.svg/2000px-Linear_Programming_Feasible_Region.svg.png\" width=\"400px\" height=\"125px\" />\n",
    "\n",
    "> La programación lineal es el campo de la optimización matemática dedicado a maximizar o minimizar (optimizar) funciones lineales, denominada función objetivo, de tal forma que las variables de dicha función estén sujetas a una serie de restricciones expresadas mediante un sistema de ecuaciones o inecuaciones también lineales.\n",
    "\n",
    "**Referencias:**\n",
    "- https://es.wikipedia.org/wiki/Programaci%C3%B3n_lineal\n",
    "- https://docs.scipy.org/doc/scipy-0.18.1/reference/optimize.html"
   ]
  },
  {
   "cell_type": "markdown",
   "metadata": {},
   "source": [
    "## 1. Apuntes históricos\n",
    "\n",
    "<img style=\"float: right; margin: 0px 0px 15px 15px;\" src=\"https://upload.wikimedia.org/wikipedia/commons/5/5e/JohnvonNeumann-LosAlamos.gif\" width=\"400px\" height=\"125px\" />\n",
    "\n",
    "- 1826:\tJoseph Fourier anticipa la programación lineal. Carl Friedrich Gauss resuelve ecuaciones lineales por eliminación \"gaussiana\".\n",
    "- 1902:\tGyula Farkas concibe un método para resolver sistemas de inecuaciones.\n",
    "- Es hasta la Segunda Guerra Mundial que se plantea la programación lineal como un modelo matemático para planificar gastos y retornos, de modo que se reduzcan costos de guerra y aumentar pérdidas del enemigo. Secreto hasta 1947 (posguerra).\n",
    "- 1947:\tGeorge Dantzig publica el algoritmo simplex y John von Neumann desarrolló la teoría de la dualidad. Se sabe que Leonid Kantoróvich también formuló la teoría en forma independiente.\n",
    "- Fue usado por muchas industrias en la planificación diaria.\n",
    "\n",
    "**Hasta acá, tiempos exponenciales de solución. Lo siguiente, tiempo polinomial.**\n",
    "\n",
    "- 1979: Leonid Khachiyan, diseñó el llamado Algoritmo del elipsoide, a través del cual demostró que el problema de la programación lineal es resoluble de manera eficiente, es decir, en tiempo polinomial.\n",
    "- 1984: Narendra Karmarkar introduce el método del punto interior para resolver problemas de programación lineal.\n",
    "\n",
    "**Mencionar complejidad computacional.**"
   ]
  },
  {
   "cell_type": "markdown",
   "metadata": {},
   "source": [
    "## 2. Motivación\n",
    "\n",
    "Cuando se quiere optimizar una función de varias variables con restricciones, se puede aplicar siempre el método de Multiplicadores de Lagrange. Sin embargo, este método es computacionalmente muy complejo conforme crece el número de variables.\n",
    "\n",
    "Por tanto, cuando la función a optimizar y las restricciones son de caracter lineal, los métodos de solución que se pueden desarrollar son computacionalmente eficientes, por lo que es útil realizar la distinción."
   ]
  },
  {
   "cell_type": "markdown",
   "metadata": {},
   "source": [
    "## 3. Problemas de programación lineal\n",
    "\n",
    "De acuerdo a lo descrito anteriormente, un problema de programación lineal puede escribirse en la siguiente forma:\n",
    "\n",
    "\\begin{equation}\n",
    "\\begin{array}{ll}\n",
    "\\min_{x_1,\\dots,x_n} & c_1x_1+\\dots+c_nx_n \\\\\n",
    "\\text{s. a. }        & a^{eq}_{j,1}x_1+\\dots+a^{eq}_{j,n}x_n=b^{eq}_j \\text{ para } 1\\leq j\\leq m_1 \\\\\n",
    "                     & a_{k,1}x_1+\\dots+a_{k,n}x_n\\leq b_k \\text{ para } 1\\leq k\\leq m_2,\n",
    "\\end{array}\n",
    "\\end{equation}\n",
    "donde:\n",
    "- $x_i$ para $i=1,\\dots,n$ son las incógnitas o variables de decisión,\n",
    "- $c_i$ para $i=1,\\dots,n$ son los coeficientes de la función a optimizar,\n",
    "- $a^{eq}_{j,i}$ para $j=1,\\dots,m_1$ e $i=1,\\dots,n$, son los coeficientes de la restricción de igualdad,\n",
    "- $a_{k,i}$ para $k=1,\\dots,m_2$ e $i=1,\\dots,n$, son los coeficientes de la restricción de desigualdad,\n",
    "- $b^{eq}_j$ para $j=1,\\dots,m_1$ son valores conocidos que deben ser respetados estrictamente, y\n",
    "- $b_k$ para $k=1,\\dots,m_2$ son valores conocidos que no deben ser superados.\n",
    "\n",
    "Equivalentemente, el problema puede escribirse como\n",
    "\n",
    "\\begin{equation}\n",
    "\\begin{array}{ll}\n",
    "\\min_{\\boldsymbol{x}} & \\boldsymbol{c}^T\\boldsymbol{x} \\\\\n",
    "\\text{s. a. }        & \\boldsymbol{A}_{eq}\\boldsymbol{x}=\\boldsymbol{b}_{eq} \\\\\n",
    "                     & \\boldsymbol{A}\\boldsymbol{x}\\leq\\boldsymbol{b},\n",
    "\\end{array}\n",
    "\\end{equation}\n",
    "donde:\n",
    "- $\\boldsymbol{x}=\\left[x_1\\quad\\dots\\quad x_n\\right]^T$,\n",
    "- $\\boldsymbol{c}=\\left[c_1\\quad\\dots\\quad c_n\\right]^T$,\n",
    "- $\\boldsymbol{A}_{eq}=\\left[\\begin{array}{ccc}a^{eq}_{1,1} & \\dots & a^{eq}_{1,n}\\\\ \\vdots & \\ddots & \\vdots\\\\ a^{eq}_{m_1,1} & \\dots & a^{eq}_{m_1,n}\\end{array}\\right]$,\n",
    "- $\\boldsymbol{A}=\\left[\\begin{array}{ccc}a_{1,1} & \\dots & a_{1,n}\\\\ \\vdots & \\ddots & \\vdots\\\\ a_{m_2,1} & \\dots & a_{m_2,n}\\end{array}\\right]$,\n",
    "- $\\boldsymbol{b}_{eq}=\\left[b^{eq}_1\\quad\\dots\\quad b^{eq}_{m_1}\\right]^T$, y\n",
    "- $\\boldsymbol{b}=\\left[b_1\\quad\\dots\\quad b_{m_2}\\right]^T$.\n",
    "\n",
    "**Nota:** el problema $\\max_{\\boldsymbol{x}}\\boldsymbol{g}(\\boldsymbol{x})$ es equivalente a $\\min_{\\boldsymbol{x}}-\\boldsymbol{g}(\\boldsymbol{x})$."
   ]
  },
  {
   "cell_type": "markdown",
   "metadata": {},
   "source": [
    "## 4. Ejemplo básico\n",
    "Una compañía produce dos productos ($X_1$ y $X_2$) usando dos máquinas ($A$ y $B$). Cada unidad de $X_1$ que se produce requiere 50 minutos en la máquina $A$ y 30 minutos en la máquina $B$. Cada unidad de $X_2$ que se produce requiere 24 minutos en la máquina $A$ y 33 minutos en la máquina $B$.\n",
    "\n",
    "Al comienzo de la semana hay 30 unidades de $X_1$ y 90 unidades de $X_2$ en inventario. El tiempo de uso disponible de la máquina $A$ es de 40 horas y el de la máquina $B$ es de 35 horas.\n",
    "\n",
    "La demanda para $X_1$ en la semana actual es de 75 unidades y de $X_2$ es de 95 unidades. La política de la compañía es maximizar la suma combinada de unidades de $X_1$ e $X_2$ en inventario al finalizar la semana.\n",
    "\n",
    "Formular el problema de decidir cuánto hacer de cada producto en la semana como un problema de programación lineal."
   ]
  },
  {
   "cell_type": "markdown",
   "metadata": {},
   "source": [
    "### Solución\n",
    "\n",
    "Sean:\n",
    "- $x_1$ la cantidad de unidades de $X_1$ a ser producidas en la semana, y\n",
    "- $x_2$ la cantidad de unidades de $X_2$ a ser producidas en la semana.\n",
    "\n",
    "Notar que lo que se quiere es maximizar $x_1+x_2$.\n",
    "\n",
    "Restricciones:\n",
    "1. El tiempo de uso disponible de la máquina $A$ es de 40 horas: $50x_1+24x_2\\leq 40(60)\\Rightarrow 50x_1+24x_2\\leq 2400$.\n",
    "2. El tiempo de uso disponible de la máquina $B$ es de 35 horas: $30x_1+33x_2\\leq 35(60)\\Rightarrow 30x_1+33x_2\\leq 2100$.\n",
    "3. La demanda para $X_1$ en la semana actual es de 75 unidades: $x_1+30\\geq 75\\Rightarrow x_1\\geq 45\\Rightarrow -x_1\\leq -45$.\n",
    "4. La demanda para $X_2$ en la semana actual es de 95 unidades: $x_2+90\\geq 95\\Rightarrow x_2\\geq 5\\Rightarrow -x_2\\leq -5$.\n",
    "\n",
    "Finalmente, el problema puede ser expresado en la forma explicada como:\n",
    "\\begin{equation}\n",
    "\\begin{array}{ll}\n",
    "\\min_{x_1,x_2} & -x_1-x_2 \\\\\n",
    "\\text{s. a. }  & 50x_1+24x_2\\leq 2400 \\\\\n",
    "               & 30x_1+33x_2\\leq 2100 \\\\\n",
    "               & -x_1\\leq -45 \\\\\n",
    "               & -x_2\\leq -5,\n",
    "\\end{array}\n",
    "\\end{equation}\n",
    "\n",
    "o, eqivalentemente \n",
    "\\begin{equation}\n",
    "\\begin{array}{ll}\n",
    "\\min_{\\boldsymbol{x}} & \\boldsymbol{c}^T\\boldsymbol{x} \\\\\n",
    "\\text{s. a. }        & \\boldsymbol{A}_{eq}\\boldsymbol{x}=\\boldsymbol{b}_{eq} \\\\\n",
    "                     & \\boldsymbol{A}\\boldsymbol{x}\\leq\\boldsymbol{b},\n",
    "\\end{array}\n",
    "\\end{equation}\n",
    "con\n",
    "- $\\boldsymbol{c}=\\left[-1 \\quad -1\\right]^T$,\n",
    "- $\\boldsymbol{A}=\\left[\\begin{array}{cc}50 & 24 \\\\ 30 & 33\\\\ -1 & 0\\\\ 0 & -1\\end{array}\\right]$, y\n",
    "- $\\boldsymbol{b}=\\left[2400\\quad 2100\\quad -45\\quad -5\\right]^T$.\n",
    "\n",
    "Preferiremos, en adelante, la notación vectorial/matricial."
   ]
  },
  {
   "cell_type": "markdown",
   "metadata": {},
   "source": [
    "Este problema está sencillo pues solo es en dos variables. La solución gráfica es válida."
   ]
  },
  {
   "cell_type": "code",
   "execution_count": 2,
   "metadata": {},
   "outputs": [],
   "source": [
    "import matplotlib.pyplot as plt\n",
    "%matplotlib inline\n",
    "import numpy as np"
   ]
  },
  {
   "cell_type": "code",
   "execution_count": 3,
   "metadata": {},
   "outputs": [],
   "source": [
    "def res1(x1):\n",
    "    return (2400-50*x1)/24\n",
    "def res2(x1):\n",
    "    return (2100-30*x1)/33"
   ]
  },
  {
   "cell_type": "code",
   "execution_count": 4,
   "metadata": {},
   "outputs": [],
   "source": [
    "x1 = np.linspace(40, 50)\n",
    "r1 = res1(x1)\n",
    "r2 = res2(x1)"
   ]
  },
  {
   "cell_type": "code",
   "execution_count": 5,
   "metadata": {},
   "outputs": [
    {
     "data": {
      "image/png": "[encoded data removed]",
      "text/plain": [
       "<matplotlib.figure.Figure at 0x7f33782c8eb8>"
      ]
     },
     "metadata": {},
     "output_type": "display_data"
    }
   ],
   "source": [
    "plt.figure(figsize = (8,6))\n",
    "plt.plot(x1, res1(x1), 'b--', label = 'res1')\n",
    "plt.plot(x1, res2(x1), 'r--', label = 'res2')\n",
    "plt.plot([45, 45], [0, 25], 'k', label = 'res3')\n",
    "plt.plot([40, 50], [5, 5], 'm', label = 'res4')\n",
    "plt.fill_between(np.array([45.0, 45.6]), res1(np.array([45.0, 45.6])), 5*np.ones(2))\n",
    "plt.text(44.8,4.9,'$(45,5)$',fontsize=10)\n",
    "plt.text(44.75,6.25,'$(45,6.25)$',fontsize=10)\n",
    "plt.text(45.6,5.1,'$(45.6,5)$',fontsize=10)\n",
    "plt.legend(loc = 'best')\n",
    "plt.xlabel('$x_1$')\n",
    "plt.ylabel('$x_2$')\n",
    "plt.axis([44, 46, 4, 7])\n",
    "plt.show()"
   ]
  },
  {
   "cell_type": "markdown",
   "metadata": {},
   "source": [
    "## 5. ¿Cómo se resuelve en python?\n",
    "\n",
    "### 5.1 Librería `SciPy`\n",
    "\n",
    "<img style=\"float: right; margin: 0px 0px 15px 15px;\" src=\"https://scipy.org/_static/images/scipy_med.png\" width=\"200px\" height=\"75px\" />\n",
    "\n",
    "`SciPy` es un software de código abierto basado en `Python` para matemáticas, ciencia e ingeniería. \n",
    "\n",
    "En particular, los siguientes son algunos de los paquetes básicos:\n",
    "- `NumPy`\n",
    "- **Librería `SciPy`**\n",
    "- `SymPy`\n",
    "- `matplotlib`\n",
    "- `pandas`\n",
    "\n",
    "La **Librería `SciPy`** es uno de los paquetes principales y provee varias rutinas numéricas eficientes. Entre ellas, para integración numérica y optimización.\n",
    "\n",
    "En esta clase, y en lo que resta del módulo, estaremos utilizando el módulo `optimize` de la librería `SciPy`."
   ]
  },
  {
   "cell_type": "code",
   "execution_count": 7,
   "metadata": {},
   "outputs": [],
   "source": [
    "import scipy.optimize as opt"
   ]
  },
  {
   "cell_type": "markdown",
   "metadata": {},
   "source": [
    "El módulo `optimize` que acabamos de importar contiene varias funciones para optimización y búsqueda de raices ($f(x)=0$). Entre ellas se encuentra la función `linprog`"
   ]
  },
  {
   "cell_type": "code",
   "execution_count": 8,
   "metadata": {},
   "outputs": [
    {
     "name": "stdout",
     "output_type": "stream",
     "text": [
      "Help on function linprog in module scipy.optimize._linprog:\n",
      "\n",
      "linprog(c, A_ub=None, b_ub=None, A_eq=None, b_eq=None, bounds=None, method='simplex', callback=None, options=None)\n",
      "    Minimize a linear objective function subject to linear\n",
      "    equality and inequality constraints.\n",
      "    \n",
      "    Linear Programming is intended to solve the following problem form:\n",
      "    \n",
      "    Minimize:     c^T * x\n",
      "    \n",
      "    Subject to:   A_ub * x <= b_ub\n",
      "                  A_eq * x == b_eq\n",
      "    \n",
      "    Parameters\n",
      "    ----------\n",
      "    c : array_like\n",
      "        Coefficients of the linear objective function to be minimized.\n",
      "    A_ub : array_like, optional\n",
      "        2-D array which, when matrix-multiplied by x, gives the values of the\n",
      "        upper-bound inequality constraints at x.\n",
      "    b_ub : array_like, optional\n",
      "        1-D array of values representing the upper-bound of each inequality\n",
      "        constraint (row) in A_ub.\n",
      "    A_eq : array_like, optional\n",
      "        2-D array which, when matrix-multiplied by x, gives the values of the\n",
      "        equality constraints at x.\n",
      "    b_eq : array_like, optional\n",
      "        1-D array of values representing the RHS of each equality constraint\n",
      "        (row) in A_eq.\n",
      "    bounds : sequence, optional\n",
      "        ``(min, max)`` pairs for each element in ``x``, defining\n",
      "        the bounds on that parameter. Use None for one of ``min`` or\n",
      "        ``max`` when there is no bound in that direction. By default\n",
      "        bounds are ``(0, None)`` (non-negative)\n",
      "        If a sequence containing a single tuple is provided, then ``min`` and\n",
      "        ``max`` will be applied to all variables in the problem.\n",
      "    method : str, optional\n",
      "        Type of solver.  At this time only 'simplex' is supported\n",
      "        :ref:`(see here) <optimize.linprog-simplex>`.\n",
      "    callback : callable, optional\n",
      "        If a callback function is provide, it will be called within each\n",
      "        iteration of the simplex algorithm. The callback must have the signature\n",
      "        `callback(xk, **kwargs)` where xk is the current solution vector\n",
      "        and kwargs is a dictionary containing the following::\n",
      "    \n",
      "            \"tableau\" : The current Simplex algorithm tableau\n",
      "            \"nit\" : The current iteration.\n",
      "            \"pivot\" : The pivot (row, column) used for the next iteration.\n",
      "            \"phase\" : Whether the algorithm is in Phase 1 or Phase 2.\n",
      "            \"basis\" : The indices of the columns of the basic variables.\n",
      "    \n",
      "    options : dict, optional\n",
      "        A dictionary of solver options. All methods accept the following\n",
      "        generic options:\n",
      "    \n",
      "            maxiter : int\n",
      "                Maximum number of iterations to perform.\n",
      "            disp : bool\n",
      "                Set to True to print convergence messages.\n",
      "    \n",
      "        For method-specific options, see `show_options('linprog')`.\n",
      "    \n",
      "    Returns\n",
      "    -------\n",
      "    A `scipy.optimize.OptimizeResult` consisting of the following fields:\n",
      "    \n",
      "        x : ndarray\n",
      "            The independent variable vector which optimizes the linear\n",
      "            programming problem.\n",
      "        fun : float\n",
      "            Value of the objective function.\n",
      "        slack : ndarray\n",
      "            The values of the slack variables.  Each slack variable corresponds\n",
      "            to an inequality constraint.  If the slack is zero, then the\n",
      "            corresponding constraint is active.\n",
      "        success : bool\n",
      "            Returns True if the algorithm succeeded in finding an optimal\n",
      "            solution.\n",
      "        status : int\n",
      "            An integer representing the exit status of the optimization::\n",
      "    \n",
      "                 0 : Optimization terminated successfully\n",
      "                 1 : Iteration limit reached\n",
      "                 2 : Problem appears to be infeasible\n",
      "                 3 : Problem appears to be unbounded\n",
      "    \n",
      "        nit : int\n",
      "            The number of iterations performed.\n",
      "        message : str\n",
      "            A string descriptor of the exit status of the optimization.\n",
      "    \n",
      "    See Also\n",
      "    --------\n",
      "    show_options : Additional options accepted by the solvers\n",
      "    \n",
      "    Notes\n",
      "    -----\n",
      "    This section describes the available solvers that can be selected by the\n",
      "    'method' parameter. The default method is :ref:`Simplex <optimize.linprog-simplex>`.\n",
      "    \n",
      "    Method *Simplex* uses the Simplex algorithm (as it relates to Linear\n",
      "    Programming, NOT the Nelder-Mead Simplex) [1]_, [2]_. This algorithm\n",
      "    should be reasonably reliable and fast.\n",
      "    \n",
      "    .. versionadded:: 0.15.0\n",
      "    \n",
      "    References\n",
      "    ----------\n",
      "    .. [1] Dantzig, George B., Linear programming and extensions. Rand\n",
      "           Corporation Research Study Princeton Univ. Press, Princeton, NJ, 1963\n",
      "    .. [2] Hillier, S.H. and Lieberman, G.J. (1995), \"Introduction to\n",
      "           Mathematical Programming\", McGraw-Hill, Chapter 4.\n",
      "    .. [3] Bland, Robert G. New finite pivoting rules for the simplex method.\n",
      "           Mathematics of Operations Research (2), 1977: pp. 103-107.\n",
      "    \n",
      "    Examples\n",
      "    --------\n",
      "    Consider the following problem:\n",
      "    \n",
      "    Minimize: f = -1*x[0] + 4*x[1]\n",
      "    \n",
      "    Subject to: -3*x[0] + 1*x[1] <= 6\n",
      "                 1*x[0] + 2*x[1] <= 4\n",
      "                            x[1] >= -3\n",
      "    \n",
      "    where:  -inf <= x[0] <= inf\n",
      "    \n",
      "    This problem deviates from the standard linear programming problem.\n",
      "    In standard form, linear programming problems assume the variables x are\n",
      "    non-negative.  Since the variables don't have standard bounds where\n",
      "    0 <= x <= inf, the bounds of the variables must be explicitly set.\n",
      "    \n",
      "    There are two upper-bound constraints, which can be expressed as\n",
      "    \n",
      "    dot(A_ub, x) <= b_ub\n",
      "    \n",
      "    The input for this problem is as follows:\n",
      "    \n",
      "    >>> c = [-1, 4]\n",
      "    >>> A = [[-3, 1], [1, 2]]\n",
      "    >>> b = [6, 4]\n",
      "    >>> x0_bounds = (None, None)\n",
      "    >>> x1_bounds = (-3, None)\n",
      "    >>> from scipy.optimize import linprog\n",
      "    >>> res = linprog(c, A_ub=A, b_ub=b, bounds=(x0_bounds, x1_bounds),\n",
      "    ...               options={\"disp\": True})\n",
      "    Optimization terminated successfully.\n",
      "         Current function value: -22.000000\n",
      "         Iterations: 1\n",
      "    >>> print(res)\n",
      "         fun: -22.0\n",
      "     message: 'Optimization terminated successfully.'\n",
      "         nit: 1\n",
      "       slack: array([ 39.,   0.])\n",
      "      status: 0\n",
      "     success: True\n",
      "           x: array([ 10.,  -3.])\n",
      "    \n",
      "    Note the actual objective value is 11.428571.  In this case we minimized\n",
      "    the negative of the objective function.\n",
      "\n"
     ]
    }
   ],
   "source": [
    "help(opt.linprog)"
   ]
  },
  {
   "cell_type": "markdown",
   "metadata": {},
   "source": [
    "### 5.2 Solución del ejemplo básico con linprog\n",
    "Ya hicimos la solución gráfica. Contrastemos con la solución que nos da `linprog`..."
   ]
  },
  {
   "cell_type": "code",
   "execution_count": 9,
   "metadata": {},
   "outputs": [],
   "source": [
    "import numpy as np"
   ]
  },
  {
   "cell_type": "code",
   "execution_count": 10,
   "metadata": {},
   "outputs": [],
   "source": [
    "# Resolver...\n",
    "c = np.array([-1, -1])\n",
    "A = np.array([[50, 24], [30, 33], [-1, 0], [0, -1]])\n",
    "b = np.array([2400, 2100, -45, -5])"
   ]
  },
  {
   "cell_type": "code",
   "execution_count": 11,
   "metadata": {},
   "outputs": [],
   "source": [
    "resultado = opt.linprog(c, A_ub=A, b_ub=b)"
   ]
  },
  {
   "cell_type": "code",
   "execution_count": 12,
   "metadata": {},
   "outputs": [
    {
     "data": {
      "text/plain": [
       "     fun: -51.25\n",
       " message: 'Optimization terminated successfully.'\n",
       "     nit: 4\n",
       "   slack: array([   0.  ,  543.75,    0.  ,    1.25])\n",
       "  status: 0\n",
       " success: True\n",
       "       x: array([ 45.  ,   6.25])"
      ]
     },
     "execution_count": 12,
     "metadata": {},
     "output_type": "execute_result"
    }
   ],
   "source": [
    "resultado"
   ]
  },
  {
   "cell_type": "code",
   "execution_count": null,
   "metadata": {},
   "outputs": [],
   "source": []
  },
  {
   "cell_type": "markdown",
   "metadata": {},
   "source": [
    "Las cantidades de $X_1$ y $X_2$ que se deben producir para maximizar el inventario al final de la semana, con las restricciones de tiempo de uso de las máquinas y de demanda es:\n",
    "\n",
    "$$x_1=45$$\n",
    "\n",
    "$$x_2=6.25$$"
   ]
  },
  {
   "cell_type": "markdown",
   "metadata": {},
   "source": [
    "## 6. Optimización de inversión en bonos"
   ]
  },
  {
   "cell_type": "markdown",
   "metadata": {},
   "source": [
    "### 6.1 Ejemplo 1\n",
    "\n",
    "**Referencia:**"
   ]
  },
  {
   "cell_type": "code",
   "execution_count": 13,
   "metadata": {},
   "outputs": [
    {
     "data": {
      "image/jpeg": "[encoded data removed]",
      "text/html": [
       "\n",
       "        <iframe\n",
       "            width=\"400\"\n",
       "            height=\"300\"\n",
       "            src=\"https://www.youtube.com/embed/gukxBus8lOs\"\n",
       "            frameborder=\"0\"\n",
       "            allowfullscreen\n",
       "        ></iframe>\n",
       "        "
      ],
      "text/plain": [
       "<IPython.lib.display.YouTubeVideo at 0x7f334ed0a0f0>"
      ]
     },
     "execution_count": 13,
     "metadata": {},
     "output_type": "execute_result"
    }
   ],
   "source": [
    "from IPython.display import YouTubeVideo\n",
    "YouTubeVideo('gukxBus8lOs')"
   ]
  },
  {
   "cell_type": "markdown",
   "metadata": {},
   "source": [
    "El objetivo de este problema es determinar la mejor estrategia de inversión, dados diferentes tipos de bono, la máxima cantidad que puede ser invertida en cada bono, el porcentaje de retorno y los años de madurez. También hay una cantidad fija de dinero disponible ($\\$750,000$). Por lo menos la mitad de este dinero debe ser invertido en bonos con 10 años o más para la madurez. Se puede invertir un máximo del $25\\%$ de esta cantidad en cada bono. Finalmente, hay otra restricción que no permite usar más de $35\\%$ en bonos de alto riesgo.\n",
    "\n",
    "Existen seis (6) opciones de inversión con las letras correspondientes $A_i$\n",
    "\n",
    "1. $A_1$:(Tasa de retorno=$8.65\\%$; Años para la madurez=11, Riesgo=Bajo)\n",
    "1. $A_2$:(Tasa de retorno=$9.50\\%$; Años para la madurez=10, Riesgo=Alto)\n",
    "1. $A_3$:(Tasa de retorno=$10.00\\%$; Años para la madurez=6, Riesgo=Alto)\n",
    "1. $A_4$:(Tasa de retorno=$8.75\\%$; Años para la madurez=10, Riesgo=Bajo)\n",
    "1. $A_5$:(Tasa de retorno=$9.25\\%$; Años para la madurez=7, Riesgo=Alto)\n",
    "1. $A_6$:(Tasa de retorno=$9.00\\%$; Años para la madurez=13, Riesgo=Bajo)\n",
    "\n",
    "Lo que se quiere entonces es maximizar el retorno que deja la inversión.\n",
    "\n",
    "Este problema puede ser resuelto con programación lineal. Formalmente, puede ser descrito como:\n",
    "\n",
    "$$\\max_{A_1,A_2,...,A_6}\\sum^{6}_{i=1} A_iR_i,$$\n",
    "\n",
    "donde $A_i$ representa la cantidad invertida en la opción, y $R_i$ representa la tasa de retorno respectiva."
   ]
  },
  {
   "cell_type": "markdown",
   "metadata": {},
   "source": [
    "Plantear restricciones..."
   ]
  },
  {
   "cell_type": "code",
   "execution_count": 14,
   "metadata": {},
   "outputs": [],
   "source": [
    "# Resolver...\n",
    "c = -np.array([8.65, 9.5, 10, 8.75, 9.25, 9])/100\n",
    "A = np.array([[-1, -1, 0, -1, 0, -1], [0, 1, 1, 0, 1, 0], [1, 1, 1, 1, 1, 1]])\n",
    "b = np.array([-.5, .35, 1])*750000\n",
    "bounds = (0, 0.25*750000)"
   ]
  },
  {
   "cell_type": "code",
   "execution_count": 15,
   "metadata": {},
   "outputs": [],
   "source": [
    "res_bonos = opt.linprog(c, A_ub=A, b_ub=b, bounds=(bounds, bounds, bounds, bounds, bounds, bounds))"
   ]
  },
  {
   "cell_type": "code",
   "execution_count": 17,
   "metadata": {},
   "outputs": [
    {
     "data": {
      "text/plain": [
       "array([ 112500.,   75000.,  187500.,  187500.,       0.,  187500.])"
      ]
     },
     "execution_count": 17,
     "metadata": {},
     "output_type": "execute_result"
    }
   ],
   "source": [
    "res_bonos.x"
   ]
  },
  {
   "cell_type": "markdown",
   "metadata": {},
   "source": [
    "### 6.2 Ejemplo 2\n",
    "\n",
    "**Referencia:**\n",
    "- https://la.mathworks.com/help/optim/ug/maximize-long-term-investments-using-linear-programming.html"
   ]
  },
  {
   "cell_type": "markdown",
   "metadata": {},
   "source": [
    "Suponga que se tiene una cantidad inicial de dinero $C_0$ para invertir en un periodo de tiempo $T$ años en $N$ bonos sin cupones. Cada bono paga una tasa de interés compuesta anualmente, y paga el principal más el interés compuesto al final del periodo de madurez. El objetivo es maximizar la cantidad total de dinero después de $T$ años.\n",
    "\n",
    "Se puede incluir la restricción de que ninguna inversión individual puede superar una fracción del capital total.\n",
    "\n",
    "Suponga que:\n",
    "- El capital inicial es $C_0=\\$1000$.\n",
    "- El periodo de tiempo es $T=5$ años.\n",
    "- El número de bonos es $N=4$.\n",
    "\n",
    "Para modelar dinero que no se invierte, tenemos una opción $B_0$ disponible cada año que tiene periodo de madurez un año y una tasa de interés del $0\\%$.\n",
    "\n",
    "- El Bono 1, denotado por $B_1$, se puede comprar en el año 1, tiene periodo de madurez de 4 años, y una tasa de interés del $2\\%$.\n",
    "- El Bono 2, denotado por $B_2$, se puede comprar en el año 5, tiene periodo de madurez de 1 año, y una tasa de interés del $4\\%$.\n",
    "- El Bono 3, denotado por $B_3$, se puede comprar en el año 2, tiene periodo de madurez de 4 años, y una tasa de interés del $6\\%$.\n",
    "- El Bono 4, denotado por $B_4$, se puede comprar en el año 2, tiene periodo de madurez de 3 años, y una tasa de interés del $6\\%$.\n",
    "\n",
    "Separando la opción $B_0$ (no invertir) en 5 bonos con periodo de madurez de 1 año y tasa de interés del $0\\%$, este problema se puede modelar equivalentemente como si se tuviera un total de 9 bonos disponibles: $B_k$ para $k=1,\\dots,9$.\n",
    "\n",
    "<font color=red>Ver en el tablero una representación gráfica y plantear</font>"
   ]
  },
  {
   "cell_type": "code",
   "execution_count": 18,
   "metadata": {},
   "outputs": [],
   "source": [
    "# Resolver...\n",
    "rho = np.array([0, 0, 0, 0, 0, 2, 4, 6, 6])\n",
    "mad = np.array([1, 1, 1, 1, 1, 4, 1, 4, 3])\n",
    "\n",
    "r = (1+rho/100)**mad\n",
    "\n",
    "# Matrices para linprog\n",
    "c = -np.array([0, 0, 0, 0, r[4], 0, r[6], r[7], 0])\n",
    "Aeq = np.array([[1, 0, 0, 0, 0, 1, 0, 0, 0], \n",
    "                [-r[0], 1, 0, 0, 0, 0, 0, 1, 1],\n",
    "                [0, -r[1], 1, 0, 0, 0, 0, 0, 0],\n",
    "                [0, 0, -r[2], 1, 0, 0, 0, 0, 0],\n",
    "                [0, 0, 0, -r[3], 1, -r[5], 1, 0, -r[8]]])\n",
    "beq = np.array([1000, 0, 0, 0, 0])"
   ]
  },
  {
   "cell_type": "code",
   "execution_count": 19,
   "metadata": {},
   "outputs": [],
   "source": [
    "res_bonos2 = opt.linprog(c, A_eq=Aeq, b_eq=beq)"
   ]
  },
  {
   "cell_type": "code",
   "execution_count": 20,
   "metadata": {},
   "outputs": [
    {
     "data": {
      "text/plain": [
       "     fun: -1262.4769600000004\n",
       " message: 'Optimization terminated successfully.'\n",
       "     nit: 7\n",
       "   slack: array([], dtype=float64)\n",
       "  status: 0\n",
       " success: True\n",
       "       x: array([ 1000.,     0.,     0.,     0.,     0.,     0.,     0.,  1000.,\n",
       "           0.])"
      ]
     },
     "execution_count": 20,
     "metadata": {},
     "output_type": "execute_result"
    }
   ],
   "source": [
    "res_bonos2"
   ]
  },
  {
   "cell_type": "code",
   "execution_count": 21,
   "metadata": {},
   "outputs": [
    {
     "data": {
      "text/plain": [
       "array([ 1000.,     0.,     0.,     0.,     0.,     0.,     0.,  1000.,\n",
       "           0.])"
      ]
     },
     "execution_count": 21,
     "metadata": {},
     "output_type": "execute_result"
    }
   ],
   "source": [
    "res_bonos2.x"
   ]
  },
  {
   "cell_type": "markdown",
   "metadata": {},
   "source": [
    "<script>\n",
    "  $(document).ready(function(){\n",
    "    $('div.prompt').hide();\n",
    "    $('div.back-to-top').hide();\n",
    "    $('nav#menubar').hide();\n",
    "    $('.breadcrumb').hide();\n",
    "    $('.hidden-print').hide();\n",
    "  });\n",
    "</script>\n",
    "\n",
    "<footer id=\"attribution\" style=\"float:right; color:#808080; background:#fff;\">\n",
    "Created with Jupyter by Esteban Jiménez Rodríguez.\n",
    "</footer>"
   ]
  }
 ],
 "metadata": {
  "kernelspec": {
   "display_name": "Python 3",
   "language": "python",
   "name": "python3"
  },
  "language_info": {
   "codemirror_mode": {
    "name": "ipython",
    "version": 3
   },
   "file_extension": ".py",
   "mimetype": "text/x-python",
   "name": "python",
   "nbconvert_exporter": "python",
   "pygments_lexer": "ipython3",
   "version": "3.6.4"
  }
 },
 "nbformat": 4,
 "nbformat_minor": 2
}
