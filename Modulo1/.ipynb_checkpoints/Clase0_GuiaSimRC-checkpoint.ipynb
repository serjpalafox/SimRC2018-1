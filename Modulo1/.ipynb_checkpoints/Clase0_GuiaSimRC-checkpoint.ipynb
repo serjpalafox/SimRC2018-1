{
 "cells": [
  {
   "cell_type": "markdown",
   "metadata": {},
   "source": [
    "___\n",
    "<img style=\"float: right; margin: 0px 0px 15px 15px;\" src=\"https://upload.wikimedia.org/wikipedia/commons/thumb/4/4a/Python3-powered_hello-world.svg/1000px-Python3-powered_hello-world.svg.png\" width=\"300px\" height=\"100px\" />\n",
    "\n",
    "\n",
    "# <font color= #8A0829> Simulación de Riesgos y Coberturas.</font>\n",
    "#### <font color= #2E9AFE>  `Lunes-Miércoles de 18:00 a 20:00 hrs`</font>\n",
    "- <Strong> Esteban Jiménez Rodríguez </Strong>\n",
    "- <Strong> Año </Strong>: 2018\n",
    "- <Strong> Copyright: </Strong> Public Domain como en [CC](https://creativecommons.org/licenses/by/2.0/) (Exepto donde se indique lo contrario)\n",
    "\n",
    "- <Strong> Email: </Strong>  <font color=\"blue\"> `esjimenezro@iteso.mx, esjimenezro@gmail.com` </font>\n",
    "___"
   ]
  },
  {
   "cell_type": "markdown",
   "metadata": {},
   "source": [
    "### `Presentación de ustedes`\n",
    "___"
   ]
  },
  {
   "cell_type": "markdown",
   "metadata": {},
   "source": [
    "### `Algunas reglas de juego`\n",
    "- No comidas ni bebidas en las clases.\n",
    "- No esperen de mi que los esté regañando por tener el celular fuera, puede ser una herramienta útil.\n",
    "- Sin embargo, tengan la decencia de no interrumpir la clase. Si suena el celular, bien sea el tono o algún video que estén viendo... (pongan ustedes el castigo).\n",
    "- La regla más importante de todas (regla de oro): todas las entregas se realizan a través de moodle con los plazos asignados. No se aceptan trabajos fuera de la plataforma ni fuera de plazo. No insistan en este punto, no hay negocio.\n",
    "___"
   ]
  },
  {
   "cell_type": "markdown",
   "metadata": {},
   "source": [
    "### `Horario de asesoría`\n",
    "\n",
    "Es posible Lunes o Miércoles en horarios diferentes a 09:00-11:00 y 18:00-20:00.\n",
    "- Y diferente a Lunes de 16:00-17:00\n",
    "___"
   ]
  },
  {
   "cell_type": "markdown",
   "metadata": {},
   "source": [
    "#### `OBJETIVO GENERAL `\n",
    ">  <p style='text-align: justify;'> \n",
    "Simular el riesgo de mercado inherente a la variación de precios, y valuar las estrategias de conformación de portafolios y firma de contratos a futuro y de opciones para disminuir o eliminar el riesgo.</p>"
   ]
  },
  {
   "cell_type": "markdown",
   "metadata": {},
   "source": [
    "`Módulo 1.` **Introducción**\n",
    "> Se aplicará una evaluación (**exámen**) y se evaluará una presentación de **proyecto.**\n",
    "   1. ¿Qué es una simulación?\n",
    "    - Introducción e instalación de software\n",
    "   2. `git, GitHub, GitKraken`\n",
    "   3. `git, GitHub, GitKraken` (Continuación)\n",
    "   4. Generación de números aleatorios uniformes (con generadores congruenciales) y normales (con Box-Muller)\n",
    "   5. Valuación de opciones usando el concepto de caminatas aleatorias\n",
    "   6. Valuación de opciones usando árboles binomiales"
   ]
  },
  {
   "cell_type": "markdown",
   "metadata": {},
   "source": [
    "`Módulo 2.`  **¿Cómo funcionan las opciones y las estrategias con opciones?**\n",
    "> Se aplicará una evaluación (**exámen**) y se evaluará una presentación de **proyecto.**\n",
    "   1. Opciones call y put\n",
    "   2. Opciones con barrera\n",
    "   3. Opciones con barrera (Continuación)\n",
    "   4. Estrategias con opciones\n",
    "   5. Estrategias con opciones (Continuación)"
   ]
  },
  {
   "cell_type": "markdown",
   "metadata": {},
   "source": [
    "`Módulo 3.`  **Simulación y optimización de portafolios**\n",
    "> Se aplicará una evaluación (**exámen**) y se evaluará una presentación de **proyecto.**\n",
    "   1. ¿Cómo obtener datos de acciones y ETF?\n",
    "     - Análisis estadístico de los rendimientos\n",
    "   2. Medidas de riesgo coherentes y convexas\n",
    "     - Varianza y CVAR\n",
    "   3. Simulación de portafolios y selección según sharpe\n",
    "   4. Métodos de optimización convexa para obtener la frontera eficiente\n",
    "     - Selección según sharpe\n",
    "   5. Inclusión de bonos en el portafolio"
   ]
  },
  {
   "cell_type": "markdown",
   "metadata": {},
   "source": [
    "`Módulo 4.`  **Programación lineal**\n",
    "> Se aplicará una evaluación (**exámen**) y se evaluará una presentación de **proyecto.**\n",
    "   1. Introducción a programación lineal\n",
    "     - Portafolios de bonos\n",
    "   2. Cashflow matching\n",
    "   3. Cashflow matching (Continuación)\n",
    "   4. Capital budgeting\n",
    "   5. Capital budgeting (Continuación)"
   ]
  },
  {
   "cell_type": "markdown",
   "metadata": {},
   "source": [
    "### `Evaluación`\n",
    "\n",
    "- <strong> 4 Trabajos (trabajo en equipo) 60%</strong>\n",
    " - Cada proyecto tiene un valor del 15%\n",
    "  - La evaluación de cada proyecto se divide en dos partes \n",
    "   - Reporte     7.5%\n",
    "   - Exposición  7.5% \n",
    "- **3 Examenes (posiblemente en equipo) 30%**\n",
    "- <font color=\"blue\">Equipos de 2 integrantes mínimo y 3 máximo. *Esto no se negocia*</font>.\n",
    " - Si durante algún proyecto las cosas no funcionan entre los integrantes, para el siguiente proyecto se pueden formar equipos nuevos. \n",
    "- **Tareas 10%**"
   ]
  },
  {
   "cell_type": "markdown",
   "metadata": {},
   "source": [
    "### `Bibliografía `"
   ]
  },
  {
   "cell_type": "markdown",
   "metadata": {},
   "source": [
    "> - Investment Science, David G. Luenberger, 2014.\n",
    "> - Fixed Income and Derivatives, CFA Program Curriculum, 2018.\n",
    "> - Fixed Income, Derivatives and Alternative Investments, 2011."
   ]
  },
  {
   "cell_type": "markdown",
   "metadata": {},
   "source": [
    "<script>\n",
    "  $(document).ready(function(){\n",
    "    $('div.prompt').hide();\n",
    "    $('div.back-to-top').hide();\n",
    "    $('nav#menubar').hide();\n",
    "    $('.breadcrumb').hide();\n",
    "    $('.hidden-print').hide();\n",
    "  });\n",
    "</script>\n",
    "\n",
    "<footer id=\"attribution\" style=\"float:right; color:#808080; background:#fff;\">\n",
    "Created with Jupyter by Esteban Jiménez Rodríguez.\n",
    "</footer>"
   ]
  }
 ],
 "metadata": {
  "anaconda-cloud": {},
  "kernelspec": {
   "display_name": "Python 3",
   "language": "python",
   "name": "python3"
  },
  "language_info": {
   "codemirror_mode": {
    "name": "ipython",
    "version": 3
   },
   "file_extension": ".py",
   "mimetype": "text/x-python",
   "name": "python",
   "nbconvert_exporter": "python",
   "pygments_lexer": "ipython3",
   "version": "3.6.2"
  }
 },
 "nbformat": 4,
 "nbformat_minor": 1
}
