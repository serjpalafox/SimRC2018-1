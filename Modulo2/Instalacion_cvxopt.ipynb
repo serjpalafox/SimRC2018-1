{
 "cells": [
  {
   "cell_type": "markdown",
   "metadata": {},
   "source": [
    "# Instalación de `cvxopt`"
   ]
  },
  {
   "cell_type": "markdown",
   "metadata": {},
   "source": [
    "En clases anteriores observamos que la función minimize de scipy.optimize no fue adecuada para calcular la frontera eficiente de portafolios. Para cumplir este objetivo, utilizaremos una librería especializada en optimización convexa para Python llamada `cvopt`.\n",
    "\n",
    "<img style=\"float: right; margin: 0px 0px 15px 15px;\" src=\"https://upload.wikimedia.org/wikipedia/commons/0/0b/Sert_-_sad_smile.svg\" width=\"300px\" height=\"100px\" />\n",
    "\n",
    "Como principal inconveniente encontramos que en **Windows** `cvxopt` es compatible solo hasta `python 3.5`..."
   ]
  },
  {
   "cell_type": "markdown",
   "metadata": {},
   "source": [
    "___\n",
    "Para sobrellevar esto, lo mejor que podemos hacer es crear un ambiente dentro de anaconda donde la versión de python sea 3.5, pero sin eliminar nada de lo que tenemos actualmente.\n",
    "\n",
    "Como en este ambiente ejecutaremos todas las herramientas, instalamos python 3.5 y además anaconda con el siguiente comando:\n",
    "\n",
    "`conda create -n python35 python=3.5 anaconda`\n",
    "\n",
    "Dependiendo de la máquina, esto puede tardar de 10 minutos a 30 minutos..."
   ]
  },
  {
   "cell_type": "markdown",
   "metadata": {},
   "source": [
    "Una vez creado el nuevo ambiente python35, debemos instalar el `cvxopt` y el `pandas-datareader`:\n",
    "\n",
    "`conda install -c anaconda cvxopt`\n",
    "\n",
    "`conda install -c anaconda pandas-datareader`"
   ]
  },
  {
   "cell_type": "markdown",
   "metadata": {},
   "source": [
    "Ahora, para abrir jupyter, buscar en el menú de inicio `Jupyter Notebook (python35)`.\n",
    "\n",
    "Para ver un detalle adicional, abrir la clase 10 y verificar si el datareader sigue funcionando... si no, ejecutar:\n",
    "\n",
    "`pip install git+https://github.com/pydata/pandas-datareader`"
   ]
  },
  {
   "cell_type": "markdown",
   "metadata": {},
   "source": [
    "<script>\n",
    "  $(document).ready(function(){\n",
    "    $('div.prompt').hide();\n",
    "    $('div.back-to-top').hide();\n",
    "    $('nav#menubar').hide();\n",
    "    $('.breadcrumb').hide();\n",
    "    $('.hidden-print').hide();\n",
    "  });\n",
    "</script>\n",
    "\n",
    "<footer id=\"attribution\" style=\"float:right; color:#808080; background:#fff;\">\n",
    "Created with Jupyter by Esteban Jiménez Rodríguez.\n",
    "</footer>"
   ]
  }
 ],
 "metadata": {
  "kernelspec": {
   "display_name": "Python 3",
   "language": "python",
   "name": "python3"
  },
  "language_info": {
   "codemirror_mode": {
    "name": "ipython",
    "version": 3
   },
   "file_extension": ".py",
   "mimetype": "text/x-python",
   "name": "python",
   "nbconvert_exporter": "python",
   "pygments_lexer": "ipython3",
   "version": "3.6.4"
  }
 },
 "nbformat": 4,
 "nbformat_minor": 2
}
